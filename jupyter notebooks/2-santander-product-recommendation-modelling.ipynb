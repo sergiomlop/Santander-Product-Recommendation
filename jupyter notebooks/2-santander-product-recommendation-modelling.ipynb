{
 "cells": [
  {
   "cell_type": "code",
   "execution_count": 1,
   "metadata": {
    "_cell_guid": "b1076dfc-b9ad-4769-8c92-a6c4dae69d19",
    "_uuid": "8f2839f25d086af736a60e9eeb907d3b93b6e0e5"
   },
   "outputs": [],
   "source": [
    "##### Import packages\n",
    "# Basic packages\n",
    "import pandas as pd\n",
    "import numpy as np\n",
    "import matplotlib.pyplot as plt\n",
    "import seaborn as sns\n",
    "\n",
    "# Modelling packages\n",
    "from sklearn.preprocessing import LabelEncoder\n",
    "from sklearn.model_selection import train_test_split\n",
    "from imblearn.under_sampling import RandomUnderSampler\n",
    "from collections import Counter\n",
    "\n",
    "from sklearn.linear_model import LogisticRegression\n",
    "from sklearn.ensemble import RandomForestClassifier\n",
    "from xgboost import XGBClassifier\n",
    "\n",
    "from sklearn.metrics import accuracy_score\n",
    "from sklearn.metrics import plot_confusion_matrix\n",
    "from sklearn.metrics import classification_report\n",
    "\n",
    "# To avoid warnings´\n",
    "import warnings\n",
    "warnings.filterwarnings(\"ignore\")"
   ]
  },
  {
   "cell_type": "code",
   "execution_count": 2,
   "metadata": {
    "_cell_guid": "79c7e3d0-c299-4dcb-8224-4455121ee9b0",
    "_uuid": "d629ff2d2480ee46fbb7e2d37f6b5fab8052498a"
   },
   "outputs": [],
   "source": [
    "##### Import data\n",
    "# Check the path before running it\n",
    "\n",
    "df = pd.read_pickle('data_modelling_memred.pkl')"
   ]
  },
  {
   "cell_type": "code",
   "execution_count": 3,
   "metadata": {},
   "outputs": [],
   "source": [
    "##### I create a numerical series -- I need to predict 17th month\n",
    "\n",
    "dict_meses = dict()\n",
    "for num,value in enumerate(df.fecha_dato.unique(),1):\n",
    "    dict_meses[value] = num\n",
    "    \n",
    "df[\"month_counter\"] = df['fecha_dato'].map(dict_meses)"
   ]
  },
  {
   "cell_type": "code",
   "execution_count": 4,
   "metadata": {},
   "outputs": [],
   "source": [
    "##### Due to imputation strategy, I reapply previous filter to prevent unexpected values \n",
    "\n",
    "info_17 = df.ncodpers.value_counts()[df.ncodpers.value_counts() == 17].index\n",
    "df = df[df['ncodpers'].isin(info_17)].reset_index(drop = True)"
   ]
  },
  {
   "cell_type": "markdown",
   "metadata": {},
   "source": [
    "# Prediction Model for `ind_cco_fin_ult1`"
   ]
  },
  {
   "cell_type": "code",
   "execution_count": 5,
   "metadata": {},
   "outputs": [
    {
     "data": {
      "text/html": [
       "<div>\n",
       "<style scoped>\n",
       "    .dataframe tbody tr th:only-of-type {\n",
       "        vertical-align: middle;\n",
       "    }\n",
       "\n",
       "    .dataframe tbody tr th {\n",
       "        vertical-align: top;\n",
       "    }\n",
       "\n",
       "    .dataframe thead th {\n",
       "        text-align: right;\n",
       "    }\n",
       "</style>\n",
       "<table border=\"1\" class=\"dataframe\">\n",
       "  <thead>\n",
       "    <tr style=\"text-align: right;\">\n",
       "      <th></th>\n",
       "      <th>1</th>\n",
       "      <th>2</th>\n",
       "      <th>3</th>\n",
       "      <th>4</th>\n",
       "      <th>5</th>\n",
       "      <th>6</th>\n",
       "      <th>7</th>\n",
       "      <th>8</th>\n",
       "      <th>9</th>\n",
       "      <th>10</th>\n",
       "      <th>11</th>\n",
       "      <th>12</th>\n",
       "      <th>13</th>\n",
       "      <th>14</th>\n",
       "      <th>15</th>\n",
       "      <th>16</th>\n",
       "    </tr>\n",
       "  </thead>\n",
       "  <tbody>\n",
       "    <tr>\n",
       "      <th>0</th>\n",
       "      <td>1</td>\n",
       "      <td>1</td>\n",
       "      <td>1</td>\n",
       "      <td>1</td>\n",
       "      <td>1</td>\n",
       "      <td>0</td>\n",
       "      <td>1</td>\n",
       "      <td>1</td>\n",
       "      <td>0</td>\n",
       "      <td>0</td>\n",
       "      <td>1</td>\n",
       "      <td>1</td>\n",
       "      <td>1</td>\n",
       "      <td>1</td>\n",
       "      <td>1</td>\n",
       "      <td>1</td>\n",
       "    </tr>\n",
       "    <tr>\n",
       "      <th>1</th>\n",
       "      <td>0</td>\n",
       "      <td>1</td>\n",
       "      <td>1</td>\n",
       "      <td>1</td>\n",
       "      <td>1</td>\n",
       "      <td>1</td>\n",
       "      <td>0</td>\n",
       "      <td>1</td>\n",
       "      <td>1</td>\n",
       "      <td>1</td>\n",
       "      <td>1</td>\n",
       "      <td>1</td>\n",
       "      <td>1</td>\n",
       "      <td>1</td>\n",
       "      <td>1</td>\n",
       "      <td>1</td>\n",
       "    </tr>\n",
       "    <tr>\n",
       "      <th>2</th>\n",
       "      <td>1</td>\n",
       "      <td>1</td>\n",
       "      <td>1</td>\n",
       "      <td>1</td>\n",
       "      <td>0</td>\n",
       "      <td>1</td>\n",
       "      <td>1</td>\n",
       "      <td>0</td>\n",
       "      <td>0</td>\n",
       "      <td>1</td>\n",
       "      <td>1</td>\n",
       "      <td>1</td>\n",
       "      <td>1</td>\n",
       "      <td>1</td>\n",
       "      <td>0</td>\n",
       "      <td>1</td>\n",
       "    </tr>\n",
       "    <tr>\n",
       "      <th>3</th>\n",
       "      <td>0</td>\n",
       "      <td>1</td>\n",
       "      <td>1</td>\n",
       "      <td>1</td>\n",
       "      <td>1</td>\n",
       "      <td>1</td>\n",
       "      <td>1</td>\n",
       "      <td>1</td>\n",
       "      <td>0</td>\n",
       "      <td>1</td>\n",
       "      <td>1</td>\n",
       "      <td>1</td>\n",
       "      <td>1</td>\n",
       "      <td>1</td>\n",
       "      <td>1</td>\n",
       "      <td>1</td>\n",
       "    </tr>\n",
       "    <tr>\n",
       "      <th>4</th>\n",
       "      <td>1</td>\n",
       "      <td>1</td>\n",
       "      <td>1</td>\n",
       "      <td>1</td>\n",
       "      <td>0</td>\n",
       "      <td>1</td>\n",
       "      <td>1</td>\n",
       "      <td>1</td>\n",
       "      <td>1</td>\n",
       "      <td>1</td>\n",
       "      <td>1</td>\n",
       "      <td>1</td>\n",
       "      <td>1</td>\n",
       "      <td>0</td>\n",
       "      <td>1</td>\n",
       "      <td>1</td>\n",
       "    </tr>\n",
       "    <tr>\n",
       "      <th>...</th>\n",
       "      <td>...</td>\n",
       "      <td>...</td>\n",
       "      <td>...</td>\n",
       "      <td>...</td>\n",
       "      <td>...</td>\n",
       "      <td>...</td>\n",
       "      <td>...</td>\n",
       "      <td>...</td>\n",
       "      <td>...</td>\n",
       "      <td>...</td>\n",
       "      <td>...</td>\n",
       "      <td>...</td>\n",
       "      <td>...</td>\n",
       "      <td>...</td>\n",
       "      <td>...</td>\n",
       "      <td>...</td>\n",
       "    </tr>\n",
       "    <tr>\n",
       "      <th>296817</th>\n",
       "      <td>0</td>\n",
       "      <td>1</td>\n",
       "      <td>1</td>\n",
       "      <td>1</td>\n",
       "      <td>1</td>\n",
       "      <td>0</td>\n",
       "      <td>0</td>\n",
       "      <td>1</td>\n",
       "      <td>1</td>\n",
       "      <td>1</td>\n",
       "      <td>1</td>\n",
       "      <td>1</td>\n",
       "      <td>1</td>\n",
       "      <td>1</td>\n",
       "      <td>1</td>\n",
       "      <td>1</td>\n",
       "    </tr>\n",
       "    <tr>\n",
       "      <th>296818</th>\n",
       "      <td>1</td>\n",
       "      <td>1</td>\n",
       "      <td>1</td>\n",
       "      <td>1</td>\n",
       "      <td>0</td>\n",
       "      <td>1</td>\n",
       "      <td>1</td>\n",
       "      <td>1</td>\n",
       "      <td>1</td>\n",
       "      <td>1</td>\n",
       "      <td>1</td>\n",
       "      <td>0</td>\n",
       "      <td>0</td>\n",
       "      <td>1</td>\n",
       "      <td>1</td>\n",
       "      <td>1</td>\n",
       "    </tr>\n",
       "    <tr>\n",
       "      <th>296819</th>\n",
       "      <td>1</td>\n",
       "      <td>1</td>\n",
       "      <td>1</td>\n",
       "      <td>1</td>\n",
       "      <td>1</td>\n",
       "      <td>1</td>\n",
       "      <td>1</td>\n",
       "      <td>1</td>\n",
       "      <td>1</td>\n",
       "      <td>1</td>\n",
       "      <td>1</td>\n",
       "      <td>1</td>\n",
       "      <td>1</td>\n",
       "      <td>1</td>\n",
       "      <td>1</td>\n",
       "      <td>0</td>\n",
       "    </tr>\n",
       "    <tr>\n",
       "      <th>296820</th>\n",
       "      <td>1</td>\n",
       "      <td>1</td>\n",
       "      <td>1</td>\n",
       "      <td>1</td>\n",
       "      <td>0</td>\n",
       "      <td>1</td>\n",
       "      <td>0</td>\n",
       "      <td>1</td>\n",
       "      <td>1</td>\n",
       "      <td>1</td>\n",
       "      <td>0</td>\n",
       "      <td>1</td>\n",
       "      <td>1</td>\n",
       "      <td>1</td>\n",
       "      <td>1</td>\n",
       "      <td>1</td>\n",
       "    </tr>\n",
       "    <tr>\n",
       "      <th>296821</th>\n",
       "      <td>1</td>\n",
       "      <td>1</td>\n",
       "      <td>1</td>\n",
       "      <td>1</td>\n",
       "      <td>1</td>\n",
       "      <td>1</td>\n",
       "      <td>1</td>\n",
       "      <td>0</td>\n",
       "      <td>0</td>\n",
       "      <td>0</td>\n",
       "      <td>0</td>\n",
       "      <td>0</td>\n",
       "      <td>1</td>\n",
       "      <td>1</td>\n",
       "      <td>0</td>\n",
       "      <td>1</td>\n",
       "    </tr>\n",
       "  </tbody>\n",
       "</table>\n",
       "<p>296822 rows × 16 columns</p>\n",
       "</div>"
      ],
      "text/plain": [
       "        1   2   3   4   5   6   7   8   9   10  11  12  13  14  15  16\n",
       "0        1   1   1   1   1   0   1   1   0   0   1   1   1   1   1   1\n",
       "1        0   1   1   1   1   1   0   1   1   1   1   1   1   1   1   1\n",
       "2        1   1   1   1   0   1   1   0   0   1   1   1   1   1   0   1\n",
       "3        0   1   1   1   1   1   1   1   0   1   1   1   1   1   1   1\n",
       "4        1   1   1   1   0   1   1   1   1   1   1   1   1   0   1   1\n",
       "...     ..  ..  ..  ..  ..  ..  ..  ..  ..  ..  ..  ..  ..  ..  ..  ..\n",
       "296817   0   1   1   1   1   0   0   1   1   1   1   1   1   1   1   1\n",
       "296818   1   1   1   1   0   1   1   1   1   1   1   0   0   1   1   1\n",
       "296819   1   1   1   1   1   1   1   1   1   1   1   1   1   1   1   0\n",
       "296820   1   1   1   1   0   1   0   1   1   1   0   1   1   1   1   1\n",
       "296821   1   1   1   1   1   1   1   0   0   0   0   0   1   1   0   1\n",
       "\n",
       "[296822 rows x 16 columns]"
      ]
     },
     "execution_count": 5,
     "metadata": {},
     "output_type": "execute_result"
    }
   ],
   "source": [
    "##### I extract the other 15 rows from the first product purchase column and transpose it\n",
    "\n",
    "df_product = pd.DataFrame()\n",
    "for i in range(0,17):\n",
    "    x = df.query(f'month_counter == {i}')[\"ind_cco_fin_ult1\"].tolist()\n",
    "    df1 = pd.DataFrame(x).T\n",
    "    df_product = pd.concat([df1,df_product], axis=0)\n",
    "    \n",
    "df_product = df_product.T\n",
    "df_product.columns = range(1,17)\n",
    "df_product"
   ]
  },
  {
   "cell_type": "code",
   "execution_count": 6,
   "metadata": {},
   "outputs": [
    {
     "data": {
      "text/html": [
       "<div>\n",
       "<style scoped>\n",
       "    .dataframe tbody tr th:only-of-type {\n",
       "        vertical-align: middle;\n",
       "    }\n",
       "\n",
       "    .dataframe tbody tr th {\n",
       "        vertical-align: top;\n",
       "    }\n",
       "\n",
       "    .dataframe thead th {\n",
       "        text-align: right;\n",
       "    }\n",
       "</style>\n",
       "<table border=\"1\" class=\"dataframe\">\n",
       "  <thead>\n",
       "    <tr style=\"text-align: right;\">\n",
       "      <th></th>\n",
       "      <th>month</th>\n",
       "      <th>sexo</th>\n",
       "      <th>age</th>\n",
       "      <th>antiguedad</th>\n",
       "      <th>tiprel_1mes</th>\n",
       "      <th>canal_entrada</th>\n",
       "      <th>nomprov</th>\n",
       "      <th>renta</th>\n",
       "      <th>segmento</th>\n",
       "    </tr>\n",
       "  </thead>\n",
       "  <tbody>\n",
       "    <tr>\n",
       "      <th>0</th>\n",
       "      <td>1</td>\n",
       "      <td>V</td>\n",
       "      <td>23</td>\n",
       "      <td>35</td>\n",
       "      <td>A</td>\n",
       "      <td>KHE</td>\n",
       "      <td>ZARAGOZA</td>\n",
       "      <td>451931.22</td>\n",
       "      <td>03 - UNIVERSITARIO</td>\n",
       "    </tr>\n",
       "    <tr>\n",
       "      <th>1</th>\n",
       "      <td>1</td>\n",
       "      <td>H</td>\n",
       "      <td>23</td>\n",
       "      <td>35</td>\n",
       "      <td>A</td>\n",
       "      <td>KHE</td>\n",
       "      <td>ZARAGOZA</td>\n",
       "      <td>113316.66</td>\n",
       "      <td>03 - UNIVERSITARIO</td>\n",
       "    </tr>\n",
       "    <tr>\n",
       "      <th>2</th>\n",
       "      <td>1</td>\n",
       "      <td>H</td>\n",
       "      <td>23</td>\n",
       "      <td>35</td>\n",
       "      <td>A</td>\n",
       "      <td>KHE</td>\n",
       "      <td>ZAMORA</td>\n",
       "      <td>113538.81</td>\n",
       "      <td>03 - UNIVERSITARIO</td>\n",
       "    </tr>\n",
       "    <tr>\n",
       "      <th>3</th>\n",
       "      <td>1</td>\n",
       "      <td>V</td>\n",
       "      <td>23</td>\n",
       "      <td>35</td>\n",
       "      <td>A</td>\n",
       "      <td>KHE</td>\n",
       "      <td>BARCELONA</td>\n",
       "      <td>451931.22</td>\n",
       "      <td>03 - UNIVERSITARIO</td>\n",
       "    </tr>\n",
       "    <tr>\n",
       "      <th>4</th>\n",
       "      <td>1</td>\n",
       "      <td>V</td>\n",
       "      <td>24</td>\n",
       "      <td>35</td>\n",
       "      <td>I</td>\n",
       "      <td>KHE</td>\n",
       "      <td>SALAMANCA</td>\n",
       "      <td>68318.46</td>\n",
       "      <td>03 - UNIVERSITARIO</td>\n",
       "    </tr>\n",
       "  </tbody>\n",
       "</table>\n",
       "</div>"
      ],
      "text/plain": [
       "   month sexo  age  antiguedad tiprel_1mes canal_entrada    nomprov  \\\n",
       "0      1    V   23          35           A           KHE   ZARAGOZA   \n",
       "1      1    H   23          35           A           KHE   ZARAGOZA   \n",
       "2      1    H   23          35           A           KHE     ZAMORA   \n",
       "3      1    V   23          35           A           KHE  BARCELONA   \n",
       "4      1    V   24          35           I           KHE  SALAMANCA   \n",
       "\n",
       "       renta            segmento  \n",
       "0  451931.22  03 - UNIVERSITARIO  \n",
       "1  113316.66  03 - UNIVERSITARIO  \n",
       "2  113538.81  03 - UNIVERSITARIO  \n",
       "3  451931.22  03 - UNIVERSITARIO  \n",
       "4   68318.46  03 - UNIVERSITARIO  "
      ]
     },
     "execution_count": 6,
     "metadata": {},
     "output_type": "execute_result"
    }
   ],
   "source": [
    "##### I keep only relevant columns (product column will have a special processing)\n",
    "\n",
    "df_pred = df[['month', 'sexo', 'age', 'antiguedad','tiprel_1mes', 'canal_entrada', 'nomprov', 'renta', 'segmento']].copy()\n",
    "\n",
    "df_pred.head()"
   ]
  },
  {
   "cell_type": "code",
   "execution_count": 7,
   "metadata": {},
   "outputs": [
    {
     "name": "stdout",
     "output_type": "stream",
     "text": [
      "month: [ 1  2  3  4  5  6  7  8  9 10 11 12]\n",
      "sexo: ['V' 'H']\n",
      "age: [ 23  24  22  28  25  37  39  63  33  32  42  38  50  30  31  45  27  26\n",
      "  60  36  29  34  48  35  54  44  57  84  83  47  40  77  69  52  43  46\n",
      "  49  67  51  78  41  55  59  53  73  62  66  68  65  79  19  58  56  86\n",
      "  64  61  20  72  89  71  21  96  80  95  81  82  70  76  92  93  18  74\n",
      "  75  85  91  87  90  98  88  94  99  97 100]\n",
      "antiguedad: [     35      31      16      34       9      29      10      24      27\n",
      "       7      33      14       6      12      26      23      21      11\n",
      "      28       4      17      22      18       8      13      20      32\n",
      "      15      25      36      40      19      38      37      39      30\n",
      "       3       5      47      46      44      43      45      41      57\n",
      "      56      50      58      52      48      49      54      55      53\n",
      "      51      59      42      62      61      60      63       1       2\n",
      "     139     165     164      94     159     105     162     137     128\n",
      "     156     160      95     118     132     161      98     127      72\n",
      "     157     108     163     148     115     146      81     102     121\n",
      "     198     134     140     110     120     147      77      99     141\n",
      "     117      86     193     154     124     144     155     158      85\n",
      "     116     235      88     103     151     131     100     150     145\n",
      "     133     166      68      84     232     125      78     177      96\n",
      "      79      69     142     167     104     119     122      76      70\n",
      "     113     138     135      65     126     129      66     101     111\n",
      "     176      64     153     112     149     136      80      83     143\n",
      "     187     107     231     189     109     114     217     199     173\n",
      "     174      82     209     172     178     152     216     169     168\n",
      "      89      97     130      67      73     123     183      87     206\n",
      "      93     171      91     190      71     194     184     188      92\n",
      "     106     185      74     195     207     208      75     175     201\n",
      "     203     212     180     215     170     182     214     202     196\n",
      "     186     192     191     200      90     226     179     210     242\n",
      "     225     219     205     223     237     220     218     181     222\n",
      "     241     204     211     197     213     228     221     224     234\n",
      "     240     227     229     243     233     230     238     236     244\n",
      "     239     246     245 -999999     247     248     249     250     251\n",
      "     252     253     254     255     256]\n",
      "tiprel_1mes: ['A' 'I']\n"
     ]
    },
    {
     "ename": "KeyboardInterrupt",
     "evalue": "",
     "output_type": "error",
     "traceback": [
      "\u001b[0;31m---------------------------------------------------------------------------\u001b[0m",
      "\u001b[0;31mKeyboardInterrupt\u001b[0m                         Traceback (most recent call last)",
      "\u001b[0;32m<ipython-input-7-9dd90c31e0a6>\u001b[0m in \u001b[0;36m<module>\u001b[0;34m\u001b[0m\n\u001b[1;32m      2\u001b[0m \u001b[0;34m\u001b[0m\u001b[0m\n\u001b[1;32m      3\u001b[0m \u001b[0;32mfor\u001b[0m \u001b[0mcol\u001b[0m \u001b[0;32min\u001b[0m \u001b[0mdf_pred\u001b[0m\u001b[0;34m.\u001b[0m\u001b[0mcolumns\u001b[0m\u001b[0;34m:\u001b[0m\u001b[0;34m\u001b[0m\u001b[0;34m\u001b[0m\u001b[0m\n\u001b[0;32m----> 4\u001b[0;31m     \u001b[0mprint\u001b[0m\u001b[0;34m(\u001b[0m\u001b[0;34mf'{col}: {df_pred[col].unique()}'\u001b[0m\u001b[0;34m)\u001b[0m\u001b[0;34m\u001b[0m\u001b[0;34m\u001b[0m\u001b[0m\n\u001b[0m",
      "\u001b[0;32m/opt/conda/lib/python3.7/site-packages/pandas/core/series.py\u001b[0m in \u001b[0;36munique\u001b[0;34m(self)\u001b[0m\n\u001b[1;32m   1879\u001b[0m         \u001b[0mCategories\u001b[0m \u001b[0;34m(\u001b[0m\u001b[0;36m3\u001b[0m\u001b[0;34m,\u001b[0m \u001b[0mobject\u001b[0m\u001b[0;34m)\u001b[0m\u001b[0;34m:\u001b[0m \u001b[0;34m[\u001b[0m\u001b[0;34m'a'\u001b[0m \u001b[0;34m<\u001b[0m \u001b[0;34m'b'\u001b[0m \u001b[0;34m<\u001b[0m \u001b[0;34m'c'\u001b[0m\u001b[0;34m]\u001b[0m\u001b[0;34m\u001b[0m\u001b[0;34m\u001b[0m\u001b[0m\n\u001b[1;32m   1880\u001b[0m         \"\"\"\n\u001b[0;32m-> 1881\u001b[0;31m         \u001b[0mresult\u001b[0m \u001b[0;34m=\u001b[0m \u001b[0msuper\u001b[0m\u001b[0;34m(\u001b[0m\u001b[0;34m)\u001b[0m\u001b[0;34m.\u001b[0m\u001b[0munique\u001b[0m\u001b[0;34m(\u001b[0m\u001b[0;34m)\u001b[0m\u001b[0;34m\u001b[0m\u001b[0;34m\u001b[0m\u001b[0m\n\u001b[0m\u001b[1;32m   1882\u001b[0m         \u001b[0;32mreturn\u001b[0m \u001b[0mresult\u001b[0m\u001b[0;34m\u001b[0m\u001b[0;34m\u001b[0m\u001b[0m\n\u001b[1;32m   1883\u001b[0m \u001b[0;34m\u001b[0m\u001b[0m\n",
      "\u001b[0;32m/opt/conda/lib/python3.7/site-packages/pandas/core/base.py\u001b[0m in \u001b[0;36munique\u001b[0;34m(self)\u001b[0m\n\u001b[1;32m   1263\u001b[0m                     \u001b[0mresult\u001b[0m \u001b[0;34m=\u001b[0m \u001b[0mnp\u001b[0m\u001b[0;34m.\u001b[0m\u001b[0masarray\u001b[0m\u001b[0;34m(\u001b[0m\u001b[0mresult\u001b[0m\u001b[0;34m)\u001b[0m\u001b[0;34m\u001b[0m\u001b[0;34m\u001b[0m\u001b[0m\n\u001b[1;32m   1264\u001b[0m         \u001b[0;32melse\u001b[0m\u001b[0;34m:\u001b[0m\u001b[0;34m\u001b[0m\u001b[0;34m\u001b[0m\u001b[0m\n\u001b[0;32m-> 1265\u001b[0;31m             \u001b[0mresult\u001b[0m \u001b[0;34m=\u001b[0m \u001b[0munique1d\u001b[0m\u001b[0;34m(\u001b[0m\u001b[0mvalues\u001b[0m\u001b[0;34m)\u001b[0m\u001b[0;34m\u001b[0m\u001b[0;34m\u001b[0m\u001b[0m\n\u001b[0m\u001b[1;32m   1266\u001b[0m \u001b[0;34m\u001b[0m\u001b[0m\n\u001b[1;32m   1267\u001b[0m         \u001b[0;32mreturn\u001b[0m \u001b[0mresult\u001b[0m\u001b[0;34m\u001b[0m\u001b[0;34m\u001b[0m\u001b[0m\n",
      "\u001b[0;32m/opt/conda/lib/python3.7/site-packages/pandas/core/algorithms.py\u001b[0m in \u001b[0;36munique\u001b[0;34m(values)\u001b[0m\n\u001b[1;32m    397\u001b[0m \u001b[0;34m\u001b[0m\u001b[0m\n\u001b[1;32m    398\u001b[0m     \u001b[0mtable\u001b[0m \u001b[0;34m=\u001b[0m \u001b[0mhtable\u001b[0m\u001b[0;34m(\u001b[0m\u001b[0mlen\u001b[0m\u001b[0;34m(\u001b[0m\u001b[0mvalues\u001b[0m\u001b[0;34m)\u001b[0m\u001b[0;34m)\u001b[0m\u001b[0;34m\u001b[0m\u001b[0;34m\u001b[0m\u001b[0m\n\u001b[0;32m--> 399\u001b[0;31m     \u001b[0muniques\u001b[0m \u001b[0;34m=\u001b[0m \u001b[0mtable\u001b[0m\u001b[0;34m.\u001b[0m\u001b[0munique\u001b[0m\u001b[0;34m(\u001b[0m\u001b[0mvalues\u001b[0m\u001b[0;34m)\u001b[0m\u001b[0;34m\u001b[0m\u001b[0;34m\u001b[0m\u001b[0m\n\u001b[0m\u001b[1;32m    400\u001b[0m     \u001b[0muniques\u001b[0m \u001b[0;34m=\u001b[0m \u001b[0m_reconstruct_data\u001b[0m\u001b[0;34m(\u001b[0m\u001b[0muniques\u001b[0m\u001b[0;34m,\u001b[0m \u001b[0moriginal\u001b[0m\u001b[0;34m.\u001b[0m\u001b[0mdtype\u001b[0m\u001b[0;34m,\u001b[0m \u001b[0moriginal\u001b[0m\u001b[0;34m)\u001b[0m\u001b[0;34m\u001b[0m\u001b[0;34m\u001b[0m\u001b[0m\n\u001b[1;32m    401\u001b[0m     \u001b[0;32mreturn\u001b[0m \u001b[0muniques\u001b[0m\u001b[0;34m\u001b[0m\u001b[0;34m\u001b[0m\u001b[0m\n",
      "\u001b[0;31mKeyboardInterrupt\u001b[0m: "
     ]
    }
   ],
   "source": [
    "##### See which ones need data preparation based on unique values\n",
    "\n",
    "for col in df_pred.columns:\n",
    "    print(f'{col}: {df_pred[col].unique()}')"
   ]
  },
  {
   "cell_type": "code",
   "execution_count": null,
   "metadata": {},
   "outputs": [],
   "source": [
    "##### Data binning to age, renta and antiguedad\n",
    "\n",
    "fig, ax = plt.subplots(1,3, figsize = [25, 5])\n",
    "fig.suptitle('Data binning', fontsize = 18)\n",
    "\n",
    "# Age\n",
    "ax[0].hist(df_pred.age)\n",
    "ax[0].set_title('Age distribution', fontsize = 12)\n",
    "\n",
    "bins = np.linspace(df_pred.age.min(), df_pred.age.max(), 5)\n",
    "# Young = 0 | Adult = 1 | Senior = 2 | Elderly = 3\n",
    "df_pred['age_binning'] = pd.cut(df_pred['age'], bins, labels = [0,1,2,3], include_lowest=True)\n",
    "del df_pred['age']\n",
    "\n",
    "# Renta\n",
    "ax[1].hist(df_pred.renta)\n",
    "ax[1].set_title('Income distribution', fontsize = 12)\n",
    "\n",
    "bins = np.linspace(df_pred.renta.min(), df_pred.renta.max(), 5)\n",
    "# Low = 0 | Middle = 1 | Middle-High = 2 | High = 3\n",
    "df_pred['renta_binning'] = pd.cut(df_pred['renta'], bins, labels = [0,1,2,3], include_lowest=True)\n",
    "del df_pred['renta']\n",
    "\n",
    "# Antiguedad\n",
    "ax[2].hist(df_pred.antiguedad)\n",
    "ax[2].set_title('Seniority distribution', fontsize = 12)\n",
    "\n",
    "bins = np.linspace(df_pred.antiguedad.min(), df_pred.antiguedad.max(), 5)\n",
    "# Baja = 0 | Media = 1 | Media Alta = 2 | Alta = 3\n",
    "df_pred['antiguedad_binning'] = pd.cut(df_pred['antiguedad'], bins, labels = [0,1,2,3], include_lowest=True)\n",
    "del df_pred['antiguedad']"
   ]
  },
  {
   "cell_type": "code",
   "execution_count": null,
   "metadata": {},
   "outputs": [],
   "source": [
    "##### To dummy to sexo, tiprel_1mes and canal_entrada\n",
    "\n",
    "for col in [\"sexo\", \"tiprel_1mes\",\"canal_entrada\"]:\n",
    "    df_pred = df_pred.join(pd.get_dummies(df_pred[col], prefix = col))\n",
    "    \n",
    "for col in [\"sexo\", \"tiprel_1mes\",\"canal_entrada\", \"sexo_V\", \"tiprel_1mes_I\"]:\n",
    "    del df_pred[col]"
   ]
  },
  {
   "cell_type": "code",
   "execution_count": null,
   "metadata": {},
   "outputs": [],
   "source": [
    "##### Label Encoding to nomprov and segmento\n",
    "\n",
    "for col in ['nomprov', 'segmento']:\n",
    "    LabelEncoding = LabelEncoder()\n",
    "    df_pred[col] = LabelEncoding.fit_transform(df_pred[col].values)"
   ]
  },
  {
   "cell_type": "code",
   "execution_count": null,
   "metadata": {},
   "outputs": [],
   "source": [
    "##### Now I join both DataFrames\n",
    "\n",
    "df_product = df_product.join(df_pred)\n",
    "df_product"
   ]
  },
  {
   "cell_type": "code",
   "execution_count": null,
   "metadata": {},
   "outputs": [],
   "source": [
    "##### Creation of X and y\n",
    "\n",
    "X = np.asarray(df_product.values)\n",
    "y = np.asarray(df.query(f'month_counter == 17')[\"ind_cco_fin_ult1\"]) # target is last month"
   ]
  },
  {
   "cell_type": "code",
   "execution_count": null,
   "metadata": {},
   "outputs": [],
   "source": [
    "##### Creation of X and y train/test\n",
    "\n",
    "X_train, X_test, y_train, y_test = train_test_split( X, y, test_size=0.3)"
   ]
  },
  {
   "cell_type": "code",
   "execution_count": null,
   "metadata": {},
   "outputs": [],
   "source": [
    "##### Undersampling to create sintetic data to improve class balance.\n",
    "# Increase minority class size until its size represent 80% of major class size\n",
    "\n",
    "undersampling = RandomUnderSampler(sampling_strategy=0.8) \n",
    "X_balance, y_balance = undersampling.fit_resample(X, y)\n",
    "Counter(y_balance)"
   ]
  },
  {
   "cell_type": "code",
   "execution_count": null,
   "metadata": {},
   "outputs": [],
   "source": [
    "##### Creation of X and y split -- train and test applying undersampling\n",
    "\n",
    "X_train_balance, X_test_balance, y_train_balance, y_test_balance = train_test_split(X_balance, y_balance, test_size=0.4)"
   ]
  },
  {
   "cell_type": "markdown",
   "metadata": {},
   "source": [
    "## Logistic Regression"
   ]
  },
  {
   "cell_type": "code",
   "execution_count": null,
   "metadata": {},
   "outputs": [],
   "source": [
    "##### Logistic Regression \n",
    "\n",
    "clf = LogisticRegression(solver='liblinear')\n",
    "clf.fit(X_train, y_train)\n",
    "yhat = clf.predict(X_test)\n",
    "\n",
    "print('Accuracy score: ',accuracy_score(y_test,yhat))"
   ]
  },
  {
   "cell_type": "code",
   "execution_count": null,
   "metadata": {},
   "outputs": [],
   "source": [
    "##### Classification Report\n",
    "\n",
    "print(classification_report(y_test, yhat, digits=3))"
   ]
  },
  {
   "cell_type": "code",
   "execution_count": null,
   "metadata": {},
   "outputs": [],
   "source": [
    "##### Confussion Matrix\n",
    "\n",
    "plot_confusion_matrix(clf, X_test, y_test,\n",
    "                             display_labels=[0,1],\n",
    "                             cmap=plt.cm.Blues,\n",
    "                             normalize=\"true\")\n",
    "plt.title('Confussion matrix on how the \\n model can predict product purchase next month')\n",
    "plt.show()"
   ]
  },
  {
   "cell_type": "markdown",
   "metadata": {},
   "source": [
    "### With Undersampling"
   ]
  },
  {
   "cell_type": "code",
   "execution_count": null,
   "metadata": {},
   "outputs": [],
   "source": [
    "##### Logistic Regression with Undersampling\n",
    "\n",
    "clf = LogisticRegression(solver='liblinear')\n",
    "clf.fit(X_train_balance, y_train_balance)\n",
    "yhat = clf.predict(X_test_balance)\n",
    "print('Accuracy score: ',accuracy_score(y_test_balance, yhat))"
   ]
  },
  {
   "cell_type": "code",
   "execution_count": null,
   "metadata": {},
   "outputs": [],
   "source": [
    "##### Classification Report\n",
    "\n",
    "print(classification_report(y_test_balance, yhat, digits=3))"
   ]
  },
  {
   "cell_type": "code",
   "execution_count": null,
   "metadata": {},
   "outputs": [],
   "source": [
    "##### Confussion Matrix\n",
    "\n",
    "plot_confusion_matrix(clf, X_test_balance, y_test_balance,\n",
    "                             display_labels=[0,1],\n",
    "                             cmap=plt.cm.Blues,\n",
    "                             normalize=\"true\")\n",
    "plt.title('Confussion matrix on how the \\n model can predict product purchase next month')\n",
    "plt.show()"
   ]
  },
  {
   "cell_type": "markdown",
   "metadata": {},
   "source": [
    "## Random Forest Classifier"
   ]
  },
  {
   "cell_type": "code",
   "execution_count": null,
   "metadata": {},
   "outputs": [],
   "source": [
    "##### Random Forest Classifier\n",
    "\n",
    "clf = RandomForestClassifier()\n",
    "clf.fit(X_train, y_train)\n",
    "yhat = clf.predict(X_test)\n",
    "print('Accuracy score: ',accuracy_score(y_test,yhat))"
   ]
  },
  {
   "cell_type": "code",
   "execution_count": null,
   "metadata": {},
   "outputs": [],
   "source": [
    "##### Classification Report\n",
    "\n",
    "print(classification_report(y_test, yhat, digits=3))"
   ]
  },
  {
   "cell_type": "code",
   "execution_count": null,
   "metadata": {},
   "outputs": [],
   "source": [
    "##### Confussion Matrix\n",
    "\n",
    "plot_confusion_matrix(clf, X_test, y_test,\n",
    "                             display_labels=[0,1],\n",
    "                             cmap=plt.cm.Blues,\n",
    "                             normalize=\"true\")\n",
    "plt.title('Confussion matrix on how the \\n model can predict product purchase next month')\n",
    "plt.show()"
   ]
  },
  {
   "cell_type": "code",
   "execution_count": null,
   "metadata": {},
   "outputs": [],
   "source": [
    "##### Feature Importance\n",
    "\n",
    "features_importance = clf.feature_importances_\n",
    "features_array = np.array(df_product.columns)\n",
    "features_array_ordered = features_array[(features_importance).argsort()[::-1]]\n",
    "features_array_ordered\n",
    "\n",
    "plt.figure(figsize=(16,10))\n",
    "sns.barplot(y = features_array, x = features_importance, orient='h', order=features_array_ordered[:50])\n",
    "\n",
    "plt.show()"
   ]
  },
  {
   "cell_type": "markdown",
   "metadata": {},
   "source": [
    "### With Undersampling"
   ]
  },
  {
   "cell_type": "code",
   "execution_count": null,
   "metadata": {},
   "outputs": [],
   "source": [
    "##### Random Forest Classifier with Undersampling\n",
    "\n",
    "clf = RandomForestClassifier()\n",
    "clf.fit(X_train_balance, y_train_balance)\n",
    "yhat = clf.predict(X_test_balance)\n",
    "print('Accuracy score: ',accuracy_score(y_test_balance,yhat))"
   ]
  },
  {
   "cell_type": "code",
   "execution_count": null,
   "metadata": {},
   "outputs": [],
   "source": [
    "##### Classification Report\n",
    "\n",
    "print(classification_report(y_test_balance, yhat, digits=3))"
   ]
  },
  {
   "cell_type": "code",
   "execution_count": null,
   "metadata": {},
   "outputs": [],
   "source": [
    "##### Confussion Matrix\n",
    "\n",
    "plot_confusion_matrix(clf, X_test_balance, y_test_balance,\n",
    "                             display_labels=[0,1],\n",
    "                             cmap=plt.cm.Blues,\n",
    "                             normalize=\"true\")\n",
    "plt.title('Confussion matrix on how the \\n model can predict product purchase next month')\n",
    "plt.show()"
   ]
  },
  {
   "cell_type": "code",
   "execution_count": null,
   "metadata": {},
   "outputs": [],
   "source": [
    "##### Feature Importance\n",
    "\n",
    "features_importance = clf.feature_importances_\n",
    "features_array = np.array(df_product.columns)\n",
    "features_array_ordered = features_array[(features_importance).argsort()[::-1]]\n",
    "features_array_ordered\n",
    "\n",
    "plt.figure(figsize=(16,10))\n",
    "sns.barplot(y = features_array, x = features_importance, orient='h', order=features_array_ordered[:50])\n",
    "\n",
    "plt.show()"
   ]
  },
  {
   "cell_type": "markdown",
   "metadata": {},
   "source": [
    "## XGB Classifier"
   ]
  },
  {
   "cell_type": "code",
   "execution_count": null,
   "metadata": {},
   "outputs": [],
   "source": [
    "##### XGB Classifier\n",
    "\n",
    "clf = XGBClassifier() \n",
    "clf.fit(X_train, y_train)\n",
    "yhat = clf.predict(X_test)\n",
    "print('Accuracy score: ',accuracy_score(y_test, yhat))"
   ]
  },
  {
   "cell_type": "code",
   "execution_count": null,
   "metadata": {},
   "outputs": [],
   "source": [
    "##### Classification Report\n",
    "\n",
    "print(classification_report(y_test, yhat, digits=3))"
   ]
  },
  {
   "cell_type": "code",
   "execution_count": null,
   "metadata": {},
   "outputs": [],
   "source": [
    "##### Confussion Matrix\n",
    "\n",
    "plot_confusion_matrix(clf, X_test, y_test,\n",
    "                             display_labels=[0,1],\n",
    "                             cmap=plt.cm.Blues,\n",
    "                             normalize=\"true\")\n",
    "plt.title('Confussion matrix on how the \\n model can predict product purchase next month')\n",
    "plt.show()"
   ]
  },
  {
   "cell_type": "code",
   "execution_count": null,
   "metadata": {},
   "outputs": [],
   "source": [
    "##### Feature Importance\n",
    "\n",
    "features_importance = clf.feature_importances_\n",
    "features_array = np.array(df_product.columns)\n",
    "features_array_ordered = features_array[(features_importance).argsort()[::-1]]\n",
    "features_array_ordered\n",
    "\n",
    "plt.figure(figsize=(16,10))\n",
    "sns.barplot(y = features_array, x = features_importance, orient='h', order=features_array_ordered[:50])\n",
    "\n",
    "plt.show()"
   ]
  },
  {
   "cell_type": "markdown",
   "metadata": {},
   "source": [
    "### With Undersampling"
   ]
  },
  {
   "cell_type": "code",
   "execution_count": 1,
   "metadata": {},
   "outputs": [],
   "source": [
    "##### XGB Classifier\n",
    "\n",
    "clf = XGBClassifier() \n",
    "clf.fit(X_train_balance, y_train_balance)\n",
    "yhat = clf.predict(X_test_balance)\n",
    "print('Accuracy score: ',accuracy_score(y_test_balance, yhat))"
   ]
  },
  {
   "cell_type": "code",
   "execution_count": null,
   "metadata": {},
   "outputs": [],
   "source": [
    "##### Classification Report\n",
    "\n",
    "print(classification_report(y_test_balance, yhat, digits=3))"
   ]
  },
  {
   "cell_type": "code",
   "execution_count": null,
   "metadata": {},
   "outputs": [],
   "source": [
    "##### Confussion Matrix\n",
    "\n",
    "plot_confusion_matrix(clf, X_test_balance, y_test_balance,\n",
    "                             display_labels=[0,1],\n",
    "                             cmap=plt.cm.Blues,\n",
    "                             normalize=\"true\")\n",
    "plt.title('Confussion matrix on how the \\n model can predict product purchase next month')\n",
    "plt.show()"
   ]
  },
  {
   "cell_type": "code",
   "execution_count": null,
   "metadata": {},
   "outputs": [],
   "source": [
    "##### Feature Importance\n",
    "\n",
    "features_importance = clf.feature_importances_\n",
    "features_array = np.array(df_product.columns)\n",
    "features_array_ordered = features_array[(features_importance).argsort()[::-1]]\n",
    "features_array_ordered\n",
    "\n",
    "plt.figure(figsize=(16,10))\n",
    "sns.barplot(y = features_array, x = features_importance, orient='h', order=features_array_ordered[:50])\n",
    "\n",
    "plt.show()"
   ]
  }
 ],
 "metadata": {
  "kernelspec": {
   "display_name": "Python 3",
   "language": "python",
   "name": "python3"
  },
  "language_info": {
   "codemirror_mode": {
    "name": "ipython",
    "version": 3
   },
   "file_extension": ".py",
   "mimetype": "text/x-python",
   "name": "python",
   "nbconvert_exporter": "python",
   "pygments_lexer": "ipython3",
   "version": "3.8.5"
  }
 },
 "nbformat": 4,
 "nbformat_minor": 4
}
